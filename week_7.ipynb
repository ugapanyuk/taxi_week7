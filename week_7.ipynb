{
 "cells": [
  {
   "cell_type": "code",
   "execution_count": 1,
   "metadata": {},
   "outputs": [
    {
     "name": "stderr",
     "output_type": "stream",
     "text": [
      "C:\\ProgramData\\Anaconda2\\lib\\site-packages\\IPython\\html.py:14: ShimWarning: The `IPython.html` package has been deprecated. You should import from `notebook` instead. `IPython.html.widgets` has moved to `ipywidgets`.\n",
      "  \"`IPython.html.widgets` has moved to `ipywidgets`.\", ShimWarning)\n"
     ]
    }
   ],
   "source": [
    "%matplotlib inline\n",
    "import statsmodels\n",
    "import scipy as sc\n",
    "import numpy as np\n",
    "import pandas as pd\n",
    "import statsmodels.formula.api as smf\n",
    "import statsmodels.stats.api as sms\n",
    "from statsmodels.graphics.regressionplots import plot_leverage_resid2\n",
    "import matplotlib.pyplot as plt\n",
    "from itertools import combinations\n",
    "import matplotlib.pyplot as plt\n",
    "import seaborn as sns\n",
    "from datetime import datetime, timedelta\n",
    "from sklearn.model_selection import train_test_split\n",
    "from mpl_toolkits.basemap import Basemap\n",
    "import folium\n",
    "from folium.plugins import HeatMap\n",
    "from IPython.html.widgets import interact, interactive, fixed\n",
    "from IPython.html import widgets\n",
    "from IPython.display import display\n",
    "from IPython.display import HTML"
   ]
  },
  {
   "cell_type": "code",
   "execution_count": 21,
   "metadata": {
    "collapsed": true
   },
   "outputs": [],
   "source": [
    "def inline_map(m, width=650, height=500):\n",
    "    \"\"\"Takes a folium instance and embed HTML.\"\"\"\n",
    "    m._build_map()\n",
    "    srcdoc = m.HTML.replace('\"', '&quot;')\n",
    "    embed = HTML('<iframe srcdoc=\"{}\" '\n",
    "                 'style=\"width: {}px; height: {}px; '\n",
    "                 'border: none\"></iframe>'.format(srcdoc, width, height))\n",
    "    return embed"
   ]
  },
  {
   "cell_type": "code",
   "execution_count": 3,
   "metadata": {
    "collapsed": true
   },
   "outputs": [],
   "source": [
    "data = pd.read_csv('taxi_7_data.csv', sep=';', index_col='dt')"
   ]
  },
  {
   "cell_type": "code",
   "execution_count": 4,
   "metadata": {
    "collapsed": true
   },
   "outputs": [],
   "source": [
    "regions = pd.read_csv('taxi_7_regions.csv', sep=';', index_col=False)"
   ]
  },
  {
   "cell_type": "code",
   "execution_count": 66,
   "metadata": {},
   "outputs": [
    {
     "data": {
      "text/html": [
       "<div>\n",
       "<table border=\"1\" class=\"dataframe\">\n",
       "  <thead>\n",
       "    <tr style=\"text-align: right;\">\n",
       "      <th></th>\n",
       "      <th>region</th>\n",
       "      <th>west</th>\n",
       "      <th>east</th>\n",
       "      <th>south</th>\n",
       "      <th>north</th>\n",
       "      <th>lon</th>\n",
       "      <th>lat</th>\n",
       "    </tr>\n",
       "  </thead>\n",
       "  <tbody>\n",
       "    <tr>\n",
       "      <th>0</th>\n",
       "      <td>1075</td>\n",
       "      <td>-74.022246</td>\n",
       "      <td>-74.011135</td>\n",
       "      <td>40.697437</td>\n",
       "      <td>40.705825</td>\n",
       "      <td>-74.016691</td>\n",
       "      <td>40.701631</td>\n",
       "    </tr>\n",
       "    <tr>\n",
       "      <th>1</th>\n",
       "      <td>1076</td>\n",
       "      <td>-74.022246</td>\n",
       "      <td>-74.011135</td>\n",
       "      <td>40.705825</td>\n",
       "      <td>40.714213</td>\n",
       "      <td>-74.016691</td>\n",
       "      <td>40.710019</td>\n",
       "    </tr>\n",
       "    <tr>\n",
       "      <th>2</th>\n",
       "      <td>1077</td>\n",
       "      <td>-74.022246</td>\n",
       "      <td>-74.011135</td>\n",
       "      <td>40.714213</td>\n",
       "      <td>40.722601</td>\n",
       "      <td>-74.016691</td>\n",
       "      <td>40.718407</td>\n",
       "    </tr>\n",
       "    <tr>\n",
       "      <th>3</th>\n",
       "      <td>1125</td>\n",
       "      <td>-74.011135</td>\n",
       "      <td>-74.000023</td>\n",
       "      <td>40.697437</td>\n",
       "      <td>40.705825</td>\n",
       "      <td>-74.005579</td>\n",
       "      <td>40.701631</td>\n",
       "    </tr>\n",
       "    <tr>\n",
       "      <th>4</th>\n",
       "      <td>1126</td>\n",
       "      <td>-74.011135</td>\n",
       "      <td>-74.000023</td>\n",
       "      <td>40.705825</td>\n",
       "      <td>40.714213</td>\n",
       "      <td>-74.005579</td>\n",
       "      <td>40.710019</td>\n",
       "    </tr>\n",
       "  </tbody>\n",
       "</table>\n",
       "</div>"
      ],
      "text/plain": [
       "   region       west       east      south      north        lon        lat\n",
       "0    1075 -74.022246 -74.011135  40.697437  40.705825 -74.016691  40.701631\n",
       "1    1076 -74.022246 -74.011135  40.705825  40.714213 -74.016691  40.710019\n",
       "2    1077 -74.022246 -74.011135  40.714213  40.722601 -74.016691  40.718407\n",
       "3    1125 -74.011135 -74.000023  40.697437  40.705825 -74.005579  40.701631\n",
       "4    1126 -74.011135 -74.000023  40.705825  40.714213 -74.005579  40.710019"
      ]
     },
     "execution_count": 66,
     "metadata": {},
     "output_type": "execute_result"
    }
   ],
   "source": [
    "regions.head()"
   ]
  },
  {
   "cell_type": "code",
   "execution_count": null,
   "metadata": {
    "collapsed": true
   },
   "outputs": [],
   "source": []
  },
  {
   "cell_type": "code",
   "execution_count": null,
   "metadata": {
    "collapsed": true
   },
   "outputs": [],
   "source": []
  },
  {
   "cell_type": "markdown",
   "metadata": {},
   "source": [
    "# Неделя 7. Оформление проекта в виде интерактивного демо."
   ]
  },
  {
   "cell_type": "markdown",
   "metadata": {},
   "source": [
    "Итоговые временные ряды были рассчитаны с помощью рекуррентной нейронной сети по методике, изложенной здесь - http://machinelearningmastery.com/time-series-prediction-lstm-recurrent-neural-networks-python-keras/\n",
    "\n",
    "В этой демонстрации используются данные за май (реальные и прогнозные). Поскольку прогнозирование занимает довольно длительное время, то прогнозные данные были рассчитаны заранее и сохранены в датасет.\n",
    "\n",
    "В соответствии с требованиями демо состоит из двух частей."
   ]
  },
  {
   "cell_type": "markdown",
   "metadata": {},
   "source": [
    "## 1. Карты с визуализацией реального и прогнозируемого спроса на такси в выбираемый пользователем момент времени"
   ]
  },
  {
   "cell_type": "code",
   "execution_count": 17,
   "metadata": {
    "collapsed": true
   },
   "outputs": [],
   "source": [
    "lat0, lon0 = -73.9778, 40.705825\n",
    "\n",
    "def VisualizeDataForDT(day, hour):\n",
    "    radars = folium.Map(location=[40, -122], zoom_start=5, tiles='OpenStreetMap')\n",
    "    map_1 = folium.Map(location=[lat0, lon0], zoom_start=12)\n",
    "    return inline_map(map_1)\n",
    "    #inline_map(map_1)\n",
    "    #html = inline(map_1, 900, 500)\n",
    "    #for name, data in map.json_data.items():\n",
    "    #    html = html.replace('d3.json, ' + repr(name), 'function(callback){callback(null, JSON.parse('+ repr(json.dumps(data).replace('\"', '&quot;')) + '))}')\n",
    "    #HTML(html)\n",
    "    \n",
    "   \n",
    "    "
   ]
  },
  {
   "cell_type": "code",
   "execution_count": 6,
   "metadata": {
    "collapsed": true
   },
   "outputs": [],
   "source": [
    "def VisualizeForecastForDT(day, hour):\n",
    "    print day, hour"
   ]
  },
  {
   "cell_type": "code",
   "execution_count": 19,
   "metadata": {
    "collapsed": true
   },
   "outputs": [],
   "source": [
    "WData = interactive(VisualizeDataForDT, day=widgets.IntSlider(min=1,max=31,step=1,value=1), hour=widgets.IntSlider(min=0,max=23,step=1,value=0))\n",
    "WForecast = interactive(VisualizeForecastForDT, day=widgets.IntSlider(min=1,max=31,step=1,value=1), hour=widgets.IntSlider(min=0,max=23,step=1,value=0))"
   ]
  },
  {
   "cell_type": "code",
   "execution_count": 20,
   "metadata": {},
   "outputs": [
    {
     "name": "stdout",
     "output_type": "stream",
     "text": [
      "Реальные данные\n"
     ]
    },
    {
     "data": {
      "application/vnd.jupyter.widget-view+json": {
       "model_id": "7c2923659cdf47ea872fa3c49accd19b"
      }
     },
     "metadata": {},
     "output_type": "display_data"
    },
    {
     "name": "stdout",
     "output_type": "stream",
     "text": [
      "Прогнозные данные\n"
     ]
    },
    {
     "data": {
      "application/vnd.jupyter.widget-view+json": {
       "model_id": "fd84b84ab6fe4b58a87e2582d9590d4b"
      }
     },
     "metadata": {},
     "output_type": "display_data"
    }
   ],
   "source": [
    "print 'Реальные данные'\n",
    "display(WData)\n",
    "print 'Прогнозные данные'\n",
    "display(WForecast)"
   ]
  },
  {
   "cell_type": "code",
   "execution_count": null,
   "metadata": {
    "collapsed": true
   },
   "outputs": [],
   "source": []
  },
  {
   "cell_type": "code",
   "execution_count": null,
   "metadata": {
    "collapsed": true
   },
   "outputs": [],
   "source": []
  }
 ],
 "metadata": {
  "kernelspec": {
   "display_name": "Python 2",
   "language": "python",
   "name": "python2"
  },
  "language_info": {
   "codemirror_mode": {
    "name": "ipython",
    "version": 2
   },
   "file_extension": ".py",
   "mimetype": "text/x-python",
   "name": "python",
   "nbconvert_exporter": "python",
   "pygments_lexer": "ipython2",
   "version": "2.7.13"
  }
 },
 "nbformat": 4,
 "nbformat_minor": 2
}
