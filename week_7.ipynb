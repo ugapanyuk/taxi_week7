{
 "cells": [
  {
   "cell_type": "code",
   "execution_count": 22,
   "metadata": {
    "collapsed": true
   },
   "outputs": [],
   "source": [
    "%matplotlib inline\n",
    "import statsmodels\n",
    "import scipy as sc\n",
    "import numpy as np\n",
    "import pandas as pd\n",
    "import statsmodels.formula.api as smf\n",
    "import statsmodels.stats.api as sms\n",
    "from statsmodels.graphics.regressionplots import plot_leverage_resid2\n",
    "import matplotlib.pyplot as plt\n",
    "from itertools import combinations\n",
    "import matplotlib.pyplot as plt\n",
    "import seaborn as sns\n",
    "from datetime import datetime, timedelta\n",
    "from sklearn.model_selection import train_test_split\n",
    "from mpl_toolkits.basemap import Basemap\n",
    "import ipywidgets as widgets\n",
    "import folium\n",
    "from folium.plugins import HeatMap"
   ]
  },
  {
   "cell_type": "code",
   "execution_count": 23,
   "metadata": {
    "collapsed": true
   },
   "outputs": [],
   "source": [
    "def inline_map(m, width=650, height=500):\n",
    "    \"\"\"Takes a folium instance and embed HTML.\"\"\"\n",
    "    m._build_map()\n",
    "    srcdoc = m.HTML.replace('\"', '&quot;')\n",
    "    embed = HTML('<iframe srcdoc=\"{}\" '\n",
    "                 'style=\"width: {}px; height: {}px; '\n",
    "                 'border: none\"></iframe>'.format(srcdoc, width, height))\n",
    "    return embed"
   ]
  },
  {
   "cell_type": "code",
   "execution_count": 24,
   "metadata": {
    "collapsed": true
   },
   "outputs": [],
   "source": [
    "data = pd.read_csv('taxi_7_data.csv', sep=';', index_col='dt')"
   ]
  },
  {
   "cell_type": "code",
   "execution_count": 25,
   "metadata": {
    "collapsed": true
   },
   "outputs": [],
   "source": [
    "regions = pd.read_csv('taxi_7_regions.csv', sep=';', index_col=False)"
   ]
  },
  {
   "cell_type": "code",
   "execution_count": 26,
   "metadata": {},
   "outputs": [
    {
     "data": {
      "text/html": [
       "<div>\n",
       "<table border=\"1\" class=\"dataframe\">\n",
       "  <thead>\n",
       "    <tr style=\"text-align: right;\">\n",
       "      <th></th>\n",
       "      <th>region</th>\n",
       "      <th>west</th>\n",
       "      <th>east</th>\n",
       "      <th>south</th>\n",
       "      <th>north</th>\n",
       "      <th>lon</th>\n",
       "      <th>lat</th>\n",
       "    </tr>\n",
       "  </thead>\n",
       "  <tbody>\n",
       "    <tr>\n",
       "      <th>0</th>\n",
       "      <td>1075</td>\n",
       "      <td>-74.022246</td>\n",
       "      <td>-74.011135</td>\n",
       "      <td>40.697437</td>\n",
       "      <td>40.705825</td>\n",
       "      <td>-74.016691</td>\n",
       "      <td>40.701631</td>\n",
       "    </tr>\n",
       "    <tr>\n",
       "      <th>1</th>\n",
       "      <td>1076</td>\n",
       "      <td>-74.022246</td>\n",
       "      <td>-74.011135</td>\n",
       "      <td>40.705825</td>\n",
       "      <td>40.714213</td>\n",
       "      <td>-74.016691</td>\n",
       "      <td>40.710019</td>\n",
       "    </tr>\n",
       "    <tr>\n",
       "      <th>2</th>\n",
       "      <td>1077</td>\n",
       "      <td>-74.022246</td>\n",
       "      <td>-74.011135</td>\n",
       "      <td>40.714213</td>\n",
       "      <td>40.722601</td>\n",
       "      <td>-74.016691</td>\n",
       "      <td>40.718407</td>\n",
       "    </tr>\n",
       "    <tr>\n",
       "      <th>3</th>\n",
       "      <td>1125</td>\n",
       "      <td>-74.011135</td>\n",
       "      <td>-74.000023</td>\n",
       "      <td>40.697437</td>\n",
       "      <td>40.705825</td>\n",
       "      <td>-74.005579</td>\n",
       "      <td>40.701631</td>\n",
       "    </tr>\n",
       "    <tr>\n",
       "      <th>4</th>\n",
       "      <td>1126</td>\n",
       "      <td>-74.011135</td>\n",
       "      <td>-74.000023</td>\n",
       "      <td>40.705825</td>\n",
       "      <td>40.714213</td>\n",
       "      <td>-74.005579</td>\n",
       "      <td>40.710019</td>\n",
       "    </tr>\n",
       "  </tbody>\n",
       "</table>\n",
       "</div>"
      ],
      "text/plain": [
       "   region       west       east      south      north        lon        lat\n",
       "0    1075 -74.022246 -74.011135  40.697437  40.705825 -74.016691  40.701631\n",
       "1    1076 -74.022246 -74.011135  40.705825  40.714213 -74.016691  40.710019\n",
       "2    1077 -74.022246 -74.011135  40.714213  40.722601 -74.016691  40.718407\n",
       "3    1125 -74.011135 -74.000023  40.697437  40.705825 -74.005579  40.701631\n",
       "4    1126 -74.011135 -74.000023  40.705825  40.714213 -74.005579  40.710019"
      ]
     },
     "execution_count": 26,
     "metadata": {},
     "output_type": "execute_result"
    }
   ],
   "source": [
    "regions.head()"
   ]
  },
  {
   "cell_type": "code",
   "execution_count": null,
   "metadata": {
    "collapsed": true
   },
   "outputs": [],
   "source": []
  },
  {
   "cell_type": "code",
   "execution_count": null,
   "metadata": {
    "collapsed": true
   },
   "outputs": [],
   "source": []
  },
  {
   "cell_type": "markdown",
   "metadata": {},
   "source": [
    "# Неделя 7. Оформление проекта в виде интерактивного демо."
   ]
  },
  {
   "cell_type": "markdown",
   "metadata": {},
   "source": [
    "Итоговые временные ряды были рассчитаны с помощью рекуррентной нейронной сети по методике, изложенной здесь - http://machinelearningmastery.com/time-series-prediction-lstm-recurrent-neural-networks-python-keras/\n",
    "\n",
    "В этой демонстрации используются данные за май (реальные и прогнозные). Поскольку прогнозирование занимает довольно длительное время, то прогнозные данные были рассчитаны заранее и сохранены в датасет.\n",
    "\n",
    "В соответствии с требованиями демо состоит из двух частей."
   ]
  },
  {
   "cell_type": "markdown",
   "metadata": {},
   "source": [
    "## 1. Карты с визуализацией реального и прогнозируемого спроса на такси в выбираемый пользователем момент времени"
   ]
  },
  {
   "cell_type": "code",
   "execution_count": 27,
   "metadata": {
    "collapsed": true
   },
   "outputs": [],
   "source": [
    "lat0, lon0 = -73.9778, 40.705825\n",
    "\n",
    "def VisualizeDataForDT(day, hour):\n",
    "    radars = folium.Map(location=[40, -122], zoom_start=5, tiles='OpenStreetMap')\n",
    "    map_1 = folium.Map(location=[lat0, lon0], zoom_start=12)\n",
    "    return inline_map(map_1)\n",
    "    #inline_map(map_1)\n",
    "    #html = inline(map_1, 900, 500)\n",
    "    #for name, data in map.json_data.items():\n",
    "    #    html = html.replace('d3.json, ' + repr(name), 'function(callback){callback(null, JSON.parse('+ repr(json.dumps(data).replace('\"', '&quot;')) + '))}')\n",
    "    #HTML(html)\n",
    "    \n",
    "   \n",
    "    "
   ]
  },
  {
   "cell_type": "code",
   "execution_count": 28,
   "metadata": {
    "collapsed": true
   },
   "outputs": [],
   "source": [
    "def VisualizeForecastForDT(day, hour):\n",
    "    print day, hour"
   ]
  },
  {
   "cell_type": "code",
   "execution_count": 29,
   "metadata": {
    "collapsed": true
   },
   "outputs": [],
   "source": [
    "WData = interactive(VisualizeDataForDT, day=widgets.IntSlider(min=1,max=31,step=1,value=1), hour=widgets.IntSlider(min=0,max=23,step=1,value=0))\n",
    "WForecast = interactive(VisualizeForecastForDT, day=widgets.IntSlider(min=1,max=31,step=1,value=1), hour=widgets.IntSlider(min=0,max=23,step=1,value=0))"
   ]
  },
  {
   "cell_type": "code",
   "execution_count": 30,
   "metadata": {},
   "outputs": [
    {
     "name": "stdout",
     "output_type": "stream",
     "text": [
      "Реальные данные\n"
     ]
    },
    {
     "data": {
      "application/vnd.jupyter.widget-view+json": {
       "model_id": "b0e1cf0364d644a49b0a8d533df69c3d"
      }
     },
     "metadata": {},
     "output_type": "display_data"
    },
    {
     "name": "stdout",
     "output_type": "stream",
     "text": [
      "Прогнозные данные\n"
     ]
    },
    {
     "data": {
      "application/vnd.jupyter.widget-view+json": {
       "model_id": "1f7a8ffed9c54288a702dcca27db4fc2"
      }
     },
     "metadata": {},
     "output_type": "display_data"
    }
   ],
   "source": [
    "print 'Реальные данные'\n",
    "display(WData)\n",
    "print 'Прогнозные данные'\n",
    "display(WForecast)"
   ]
  },
  {
   "cell_type": "code",
   "execution_count": null,
   "metadata": {
    "collapsed": true
   },
   "outputs": [],
   "source": []
  },
  {
   "cell_type": "code",
   "execution_count": null,
   "metadata": {
    "collapsed": true
   },
   "outputs": [],
   "source": []
  }
 ],
 "metadata": {
  "kernelspec": {
   "display_name": "Python 2",
   "language": "python",
   "name": "python2"
  },
  "language_info": {
   "codemirror_mode": {
    "name": "ipython",
    "version": 2
   },
   "file_extension": ".py",
   "mimetype": "text/x-python",
   "name": "python",
   "nbconvert_exporter": "python",
   "pygments_lexer": "ipython2",
   "version": "2.7.13"
  },
  "widgets": {
   "application/vnd.jupyter.widget-state+json": {
    "state": {
     "00e357169da9424182e5ff46cf6ab15f": {
      "model_module": "jupyter-js-widgets",
      "model_module_version": "~2.1.4",
      "model_name": "OutputModel",
      "state": {
       "_dom_classes": [],
       "_model_module": "jupyter-js-widgets",
       "_model_module_version": "~2.1.4",
       "_view_module": "jupyter-js-widgets",
       "_view_module_version": "~2.1.4",
       "layout": "IPY_MODEL_e04d2634a5614c8f95a2a45d796501ac",
       "msg_throttle": 1
      }
     },
     "055ef01e08974a1da75edfabd8ea5bfc": {
      "model_module": "jupyter-js-widgets",
      "model_module_version": "~2.1.4",
      "model_name": "LayoutModel",
      "state": {
       "_model_module_version": "~2.1.4",
       "_view_module_version": "~2.1.4"
      }
     },
     "06be55192c7241abb68e381f1f94c903": {
      "model_module": "jupyter-js-widgets",
      "model_module_version": "~2.1.4",
      "model_name": "SliderStyleModel",
      "state": {
       "_model_module_version": "~2.1.4",
       "_view_module_version": "~2.1.4"
      }
     },
     "09c32bb38e674a9bb81ccb3aeddcfda0": {
      "model_module": "jupyter-js-widgets",
      "model_module_version": "~2.1.4",
      "model_name": "IntSliderModel",
      "state": {
       "_model_module_version": "~2.1.4",
       "_view_module_version": "~2.1.4",
       "description": "hour",
       "layout": "IPY_MODEL_261b67f2dc5244b3ab9e9266d249b35f",
       "max": 23,
       "style": "IPY_MODEL_fceb115f65794627b420044206a09add"
      }
     },
     "09ff0a4931f2432aa3740daf60e5faa3": {
      "model_module": "jupyter-js-widgets",
      "model_module_version": "~2.1.4",
      "model_name": "SliderStyleModel",
      "state": {
       "_model_module_version": "~2.1.4",
       "_view_module_version": "~2.1.4"
      }
     },
     "0b531ce7075a4bbfb596d237d6ae437b": {
      "model_module": "jupyter-js-widgets",
      "model_module_version": "~2.1.4",
      "model_name": "VBoxModel",
      "state": {
       "_dom_classes": [
        "widget-interact"
       ],
       "_model_module_version": "~2.1.4",
       "_view_module_version": "~2.1.4",
       "children": [
        "IPY_MODEL_be2bc791754d4f7c93aed3f29f71832e",
        "IPY_MODEL_a13a91b7a47c4ca9bccff3ffcda97cfa",
        "IPY_MODEL_f77317c1215941beb76a2999bf0cacd6"
       ],
       "layout": "IPY_MODEL_ec970aace5924af0bbc64ff249e9da73"
      }
     },
     "0c2a7a6b63a4499e9dc579fcd94960fc": {
      "model_module": "jupyter-js-widgets",
      "model_module_version": "~2.1.4",
      "model_name": "OutputModel",
      "state": {
       "_dom_classes": [],
       "_model_module": "jupyter-js-widgets",
       "_model_module_version": "~2.1.4",
       "_view_module": "jupyter-js-widgets",
       "_view_module_version": "~2.1.4",
       "layout": "IPY_MODEL_c3d14cfda7e14409acd8c7cc431fbc46",
       "msg_throttle": 1
      }
     },
     "1134764c8b884b2c8a34c85260a2f58b": {
      "model_module": "jupyter-js-widgets",
      "model_module_version": "~2.1.4",
      "model_name": "SliderStyleModel",
      "state": {
       "_model_module_version": "~2.1.4",
       "_view_module_version": "~2.1.4"
      }
     },
     "147633384ae14d548cb7b381d5dce21f": {
      "model_module": "jupyter-js-widgets",
      "model_module_version": "~2.1.4",
      "model_name": "SliderStyleModel",
      "state": {
       "_model_module_version": "~2.1.4",
       "_view_module_version": "~2.1.4"
      }
     },
     "16d2164ab008481e88c972a0d6127887": {
      "model_module": "jupyter-js-widgets",
      "model_module_version": "~2.1.4",
      "model_name": "IntSliderModel",
      "state": {
       "_model_module_version": "~2.1.4",
       "_view_module_version": "~2.1.4",
       "description": "day",
       "layout": "IPY_MODEL_9e2e455caffc4507b3d1e9b1dd9b014e",
       "max": 31,
       "min": 1,
       "style": "IPY_MODEL_32335bed0eb94dca8dee90cf1fd3e229",
       "value": 1
      }
     },
     "19e44214095c452197d53769b69ac136": {
      "model_module": "jupyter-js-widgets",
      "model_module_version": "~2.1.4",
      "model_name": "LayoutModel",
      "state": {
       "_model_module_version": "~2.1.4",
       "_view_module_version": "~2.1.4"
      }
     },
     "1ae67bedb4d04e428796546d59f7368f": {
      "model_module": "jupyter-js-widgets",
      "model_module_version": "~2.1.4",
      "model_name": "IntSliderModel",
      "state": {
       "_model_module_version": "~2.1.4",
       "_view_module_version": "~2.1.4",
       "description": "day",
       "layout": "IPY_MODEL_566e006c46fd47c0861476c6f20a4241",
       "max": 31,
       "min": 1,
       "style": "IPY_MODEL_74863a67b40748d0b7304ce11d40a5a8",
       "value": 1
      }
     },
     "1e4b3f6f72e446d5ba7e80f9b31130ac": {
      "model_module": "jupyter-js-widgets",
      "model_module_version": "~2.1.4",
      "model_name": "LayoutModel",
      "state": {
       "_model_module_version": "~2.1.4",
       "_view_module_version": "~2.1.4"
      }
     },
     "1f7a8ffed9c54288a702dcca27db4fc2": {
      "model_module": "jupyter-js-widgets",
      "model_module_version": "~2.1.4",
      "model_name": "VBoxModel",
      "state": {
       "_dom_classes": [
        "widget-interact"
       ],
       "_model_module_version": "~2.1.4",
       "_view_module_version": "~2.1.4",
       "children": [
        "IPY_MODEL_16d2164ab008481e88c972a0d6127887",
        "IPY_MODEL_5ee2898b3c99455da60eff62eafbbc02",
        "IPY_MODEL_857c5d9fb7934ccb9f78b3f70795a6bb"
       ],
       "layout": "IPY_MODEL_afa97011bfa54c3bb9f5404e1facd3ca"
      }
     },
     "20b406effe8347699eef712cc4824a36": {
      "model_module": "jupyter-js-widgets",
      "model_module_version": "~2.1.4",
      "model_name": "IntSliderModel",
      "state": {
       "_model_module_version": "~2.1.4",
       "_view_module_version": "~2.1.4",
       "description": "hour",
       "layout": "IPY_MODEL_b602a2f7359b48409e7b11d8b96fe13e",
       "max": 23,
       "style": "IPY_MODEL_70d9c9ff8ccb4a028aff762ad5589246",
       "value": 3
      }
     },
     "2156f53e987c405eaf6509e4372eb03d": {
      "model_module": "jupyter-js-widgets",
      "model_module_version": "~2.1.4",
      "model_name": "LayoutModel",
      "state": {
       "_model_module_version": "~2.1.4",
       "_view_module_version": "~2.1.4"
      }
     },
     "237cb85105414020bdbd6daf3aed8418": {
      "model_module": "jupyter-js-widgets",
      "model_module_version": "~2.1.4",
      "model_name": "LayoutModel",
      "state": {
       "_model_module_version": "~2.1.4",
       "_view_module_version": "~2.1.4"
      }
     },
     "239bac3c2fc54e829e5258abf76d8017": {
      "model_module": "jupyter-js-widgets",
      "model_module_version": "~2.1.4",
      "model_name": "LayoutModel",
      "state": {
       "_model_module_version": "~2.1.4",
       "_view_module_version": "~2.1.4"
      }
     },
     "25d937f2b6784c9d8d2f60b5e5cc350e": {
      "model_module": "jupyter-js-widgets",
      "model_module_version": "~2.1.4",
      "model_name": "VBoxModel",
      "state": {
       "_dom_classes": [
        "widget-interact"
       ],
       "_model_module_version": "~2.1.4",
       "_view_module_version": "~2.1.4",
       "children": [
        "IPY_MODEL_9abab51e48464fefbe75d794ca2d8ade",
        "IPY_MODEL_20b406effe8347699eef712cc4824a36",
        "IPY_MODEL_84346519687746f399220604b7cd798e"
       ],
       "layout": "IPY_MODEL_f71740f97819404e8e0773f9a6074a58"
      }
     },
     "261b67f2dc5244b3ab9e9266d249b35f": {
      "model_module": "jupyter-js-widgets",
      "model_module_version": "~2.1.4",
      "model_name": "LayoutModel",
      "state": {
       "_model_module_version": "~2.1.4",
       "_view_module_version": "~2.1.4"
      }
     },
     "2b1d135b3e304808967e1108831d5618": {
      "model_module": "jupyter-js-widgets",
      "model_module_version": "~2.1.4",
      "model_name": "LayoutModel",
      "state": {
       "_model_module_version": "~2.1.4",
       "_view_module_version": "~2.1.4"
      }
     },
     "2edb4a772d0e4e3ca69d59a0d4d6a7bb": {
      "model_module": "jupyter-js-widgets",
      "model_module_version": "~2.1.4",
      "model_name": "IntSliderModel",
      "state": {
       "_model_module_version": "~2.1.4",
       "_view_module_version": "~2.1.4",
       "description": "hour",
       "layout": "IPY_MODEL_6c12807b2b3042fb90ba0e57a15d2a24",
       "max": 23,
       "style": "IPY_MODEL_55d4b291bf1e4e719b5ef5f5b8fbddec"
      }
     },
     "32335bed0eb94dca8dee90cf1fd3e229": {
      "model_module": "jupyter-js-widgets",
      "model_module_version": "~2.1.4",
      "model_name": "SliderStyleModel",
      "state": {
       "_model_module_version": "~2.1.4",
       "_view_module_version": "~2.1.4"
      }
     },
     "34bd3cb9f1f1471aad06fefd46557393": {
      "model_module": "jupyter-js-widgets",
      "model_module_version": "~2.1.4",
      "model_name": "SliderStyleModel",
      "state": {
       "_model_module_version": "~2.1.4",
       "_view_module_version": "~2.1.4"
      }
     },
     "3bef3592a7454fbfb7940fb88da1419a": {
      "model_module": "jupyter-js-widgets",
      "model_module_version": "~2.1.4",
      "model_name": "LayoutModel",
      "state": {
       "_model_module_version": "~2.1.4",
       "_view_module_version": "~2.1.4"
      }
     },
     "3cc387d8a4ff46f593f00cf4d06ccb6d": {
      "model_module": "jupyter-js-widgets",
      "model_module_version": "~2.1.4",
      "model_name": "VBoxModel",
      "state": {
       "_dom_classes": [
        "widget-interact"
       ],
       "_model_module_version": "~2.1.4",
       "_view_module_version": "~2.1.4",
       "children": [
        "IPY_MODEL_71498574c6ea4d8ea8c7d2294616da39",
        "IPY_MODEL_2edb4a772d0e4e3ca69d59a0d4d6a7bb",
        "IPY_MODEL_0c2a7a6b63a4499e9dc579fcd94960fc"
       ],
       "layout": "IPY_MODEL_7f4c84ad8cd2465dbd74caf2b1198b16"
      }
     },
     "3ef9af0fdef445e0a91000b25f0ed843": {
      "model_module": "jupyter-js-widgets",
      "model_module_version": "~2.1.4",
      "model_name": "LayoutModel",
      "state": {
       "_model_module_version": "~2.1.4",
       "_view_module_version": "~2.1.4"
      }
     },
     "4240f7472d644b90b35e398e467e1952": {
      "model_module": "jupyter-js-widgets",
      "model_module_version": "~2.1.4",
      "model_name": "LayoutModel",
      "state": {
       "_model_module_version": "~2.1.4",
       "_view_module_version": "~2.1.4"
      }
     },
     "45ac3ac1cb154c308612e565c5200dca": {
      "model_module": "jupyter-js-widgets",
      "model_module_version": "~2.1.4",
      "model_name": "LayoutModel",
      "state": {
       "_model_module_version": "~2.1.4",
       "_view_module_version": "~2.1.4"
      }
     },
     "4dbc3b9a06e24b42a974f89967ff7eaf": {
      "model_module": "jupyter-js-widgets",
      "model_module_version": "~2.1.4",
      "model_name": "SliderStyleModel",
      "state": {
       "_model_module_version": "~2.1.4",
       "_view_module_version": "~2.1.4"
      }
     },
     "50711ae45b5e40708af30031538d1481": {
      "model_module": "jupyter-js-widgets",
      "model_module_version": "~2.1.4",
      "model_name": "SliderStyleModel",
      "state": {
       "_model_module_version": "~2.1.4",
       "_view_module_version": "~2.1.4"
      }
     },
     "53ed4a57354f481db6fc1a979883ddfb": {
      "model_module": "jupyter-js-widgets",
      "model_module_version": "~2.1.4",
      "model_name": "LayoutModel",
      "state": {
       "_model_module_version": "~2.1.4",
       "_view_module_version": "~2.1.4"
      }
     },
     "55d4b291bf1e4e719b5ef5f5b8fbddec": {
      "model_module": "jupyter-js-widgets",
      "model_module_version": "~2.1.4",
      "model_name": "SliderStyleModel",
      "state": {
       "_model_module_version": "~2.1.4",
       "_view_module_version": "~2.1.4"
      }
     },
     "566e006c46fd47c0861476c6f20a4241": {
      "model_module": "jupyter-js-widgets",
      "model_module_version": "~2.1.4",
      "model_name": "LayoutModel",
      "state": {
       "_model_module_version": "~2.1.4",
       "_view_module_version": "~2.1.4"
      }
     },
     "5895c560169f40e8b8791431c5ce0c82": {
      "model_module": "jupyter-js-widgets",
      "model_module_version": "~2.1.4",
      "model_name": "LayoutModel",
      "state": {
       "_model_module_version": "~2.1.4",
       "_view_module_version": "~2.1.4"
      }
     },
     "59a666e15c6a46cf8917eb6de453ad9e": {
      "model_module": "jupyter-js-widgets",
      "model_module_version": "~2.1.4",
      "model_name": "VBoxModel",
      "state": {
       "_dom_classes": [
        "widget-interact"
       ],
       "_model_module_version": "~2.1.4",
       "_view_module_version": "~2.1.4",
       "children": [
        "IPY_MODEL_6ebfae79c4d94a0698841baf9c169667",
        "IPY_MODEL_9586acde9eae441e815d98d0ede266d5",
        "IPY_MODEL_a3697708803245a195ea2dfb0cdf1f00"
       ],
       "layout": "IPY_MODEL_5d97bee0f2444cebb2693691a81bdfb2"
      }
     },
     "5b3aab6ee45147339e933d52dd27950f": {
      "model_module": "jupyter-js-widgets",
      "model_module_version": "~2.1.4",
      "model_name": "LayoutModel",
      "state": {
       "_model_module_version": "~2.1.4",
       "_view_module_version": "~2.1.4"
      }
     },
     "5d97bee0f2444cebb2693691a81bdfb2": {
      "model_module": "jupyter-js-widgets",
      "model_module_version": "~2.1.4",
      "model_name": "LayoutModel",
      "state": {
       "_model_module_version": "~2.1.4",
       "_view_module_version": "~2.1.4"
      }
     },
     "5ee2898b3c99455da60eff62eafbbc02": {
      "model_module": "jupyter-js-widgets",
      "model_module_version": "~2.1.4",
      "model_name": "IntSliderModel",
      "state": {
       "_model_module_version": "~2.1.4",
       "_view_module_version": "~2.1.4",
       "description": "hour",
       "layout": "IPY_MODEL_4240f7472d644b90b35e398e467e1952",
       "max": 23,
       "style": "IPY_MODEL_1134764c8b884b2c8a34c85260a2f58b"
      }
     },
     "68805ad2811a4c0da7c36a787604023b": {
      "model_module": "jupyter-js-widgets",
      "model_module_version": "~2.1.4",
      "model_name": "SliderStyleModel",
      "state": {
       "_model_module_version": "~2.1.4",
       "_view_module_version": "~2.1.4"
      }
     },
     "69d80fbcf4064c4999528bd0700d89db": {
      "model_module": "jupyter-js-widgets",
      "model_module_version": "~2.1.4",
      "model_name": "IntSliderModel",
      "state": {
       "_model_module_version": "~2.1.4",
       "_view_module_version": "~2.1.4",
       "description": "hour",
       "layout": "IPY_MODEL_a69a792d786b48e782ac58c9294ed503",
       "max": 23,
       "style": "IPY_MODEL_b712e76cec7445acaad6e051db1c1906"
      }
     },
     "6c12807b2b3042fb90ba0e57a15d2a24": {
      "model_module": "jupyter-js-widgets",
      "model_module_version": "~2.1.4",
      "model_name": "LayoutModel",
      "state": {
       "_model_module_version": "~2.1.4",
       "_view_module_version": "~2.1.4"
      }
     },
     "6cec68548735437f8ae35a99f5178785": {
      "model_module": "jupyter-js-widgets",
      "model_module_version": "~2.1.4",
      "model_name": "LayoutModel",
      "state": {
       "_model_module_version": "~2.1.4",
       "_view_module_version": "~2.1.4"
      }
     },
     "6e14aaa893ae40b69c34ec57bd811f4f": {
      "model_module": "jupyter-js-widgets",
      "model_module_version": "~2.1.4",
      "model_name": "IntSliderModel",
      "state": {
       "_model_module_version": "~2.1.4",
       "_view_module_version": "~2.1.4",
       "description": "hour",
       "layout": "IPY_MODEL_c15ba0918ffa48aeaefcf1a013c1adbc",
       "max": 23,
       "style": "IPY_MODEL_50711ae45b5e40708af30031538d1481"
      }
     },
     "6ebfae79c4d94a0698841baf9c169667": {
      "model_module": "jupyter-js-widgets",
      "model_module_version": "~2.1.4",
      "model_name": "IntSliderModel",
      "state": {
       "_model_module_version": "~2.1.4",
       "_view_module_version": "~2.1.4",
       "description": "day",
       "layout": "IPY_MODEL_bd07fec483594a01bf18bb334fb4a633",
       "max": 31,
       "min": 1,
       "style": "IPY_MODEL_8feb8623a78f46f5b7ddcb60b3e6a171",
       "value": 1
      }
     },
     "70d9c9ff8ccb4a028aff762ad5589246": {
      "model_module": "jupyter-js-widgets",
      "model_module_version": "~2.1.4",
      "model_name": "SliderStyleModel",
      "state": {
       "_model_module_version": "~2.1.4",
       "_view_module_version": "~2.1.4"
      }
     },
     "7116e83405f44ae49bdd8a3f6e4e0617": {
      "model_module": "jupyter-js-widgets",
      "model_module_version": "~2.1.4",
      "model_name": "LayoutModel",
      "state": {
       "_model_module_version": "~2.1.4",
       "_view_module_version": "~2.1.4"
      }
     },
     "71498574c6ea4d8ea8c7d2294616da39": {
      "model_module": "jupyter-js-widgets",
      "model_module_version": "~2.1.4",
      "model_name": "IntSliderModel",
      "state": {
       "_model_module_version": "~2.1.4",
       "_view_module_version": "~2.1.4",
       "description": "day",
       "layout": "IPY_MODEL_2b1d135b3e304808967e1108831d5618",
       "max": 31,
       "min": 1,
       "style": "IPY_MODEL_34bd3cb9f1f1471aad06fefd46557393",
       "value": 1
      }
     },
     "74863a67b40748d0b7304ce11d40a5a8": {
      "model_module": "jupyter-js-widgets",
      "model_module_version": "~2.1.4",
      "model_name": "SliderStyleModel",
      "state": {
       "_model_module_version": "~2.1.4",
       "_view_module_version": "~2.1.4"
      }
     },
     "77e7326304354e13a58512614b19775e": {
      "model_module": "jupyter-js-widgets",
      "model_module_version": "~2.1.4",
      "model_name": "LayoutModel",
      "state": {
       "_model_module_version": "~2.1.4",
       "_view_module_version": "~2.1.4"
      }
     },
     "78eb0094e0c44cb5b703412603024ac0": {
      "model_module": "jupyter-js-widgets",
      "model_module_version": "~2.1.4",
      "model_name": "IntSliderModel",
      "state": {
       "_model_module_version": "~2.1.4",
       "_view_module_version": "~2.1.4",
       "description": "hour",
       "layout": "IPY_MODEL_8077f740c38a494db259e11e72bff968",
       "max": 23,
       "style": "IPY_MODEL_ebb9269f0b2f4bf697bf37a08417926a"
      }
     },
     "7b4d7d5cc9394372ac56fe69c073c10d": {
      "model_module": "jupyter-js-widgets",
      "model_module_version": "~2.1.4",
      "model_name": "OutputModel",
      "state": {
       "_dom_classes": [],
       "_model_module": "jupyter-js-widgets",
       "_model_module_version": "~2.1.4",
       "_view_module": "jupyter-js-widgets",
       "_view_module_version": "~2.1.4",
       "layout": "IPY_MODEL_bf15b5ab4053445d9654a3960a925bd3",
       "msg_throttle": 1
      }
     },
     "7c2923659cdf47ea872fa3c49accd19b": {
      "model_module": "jupyter-js-widgets",
      "model_module_version": "~2.1.4",
      "model_name": "VBoxModel",
      "state": {
       "_dom_classes": [
        "widget-interact"
       ],
       "_model_module_version": "~2.1.4",
       "_view_module_version": "~2.1.4",
       "children": [
        "IPY_MODEL_8798b07f172f42d297f811c289dc96ec",
        "IPY_MODEL_f15f1e57d1fc42d097bb6ce6396d4bb5",
        "IPY_MODEL_9d527ba82cb341b1a0ec4bfa8ec071f5"
       ],
       "layout": "IPY_MODEL_055ef01e08974a1da75edfabd8ea5bfc"
      }
     },
     "7f4c84ad8cd2465dbd74caf2b1198b16": {
      "model_module": "jupyter-js-widgets",
      "model_module_version": "~2.1.4",
      "model_name": "LayoutModel",
      "state": {
       "_model_module_version": "~2.1.4",
       "_view_module_version": "~2.1.4"
      }
     },
     "7f56fbaad49a4747883a31a9d7ede622": {
      "model_module": "jupyter-js-widgets",
      "model_module_version": "~2.1.4",
      "model_name": "VBoxModel",
      "state": {
       "_dom_classes": [
        "widget-interact"
       ],
       "_model_module_version": "~2.1.4",
       "_view_module_version": "~2.1.4",
       "children": [
        "IPY_MODEL_1ae67bedb4d04e428796546d59f7368f",
        "IPY_MODEL_09c32bb38e674a9bb81ccb3aeddcfda0",
        "IPY_MODEL_a698446b999d4fb1a34f3addf1510652"
       ],
       "layout": "IPY_MODEL_237cb85105414020bdbd6daf3aed8418"
      }
     },
     "8077f740c38a494db259e11e72bff968": {
      "model_module": "jupyter-js-widgets",
      "model_module_version": "~2.1.4",
      "model_name": "LayoutModel",
      "state": {
       "_model_module_version": "~2.1.4",
       "_view_module_version": "~2.1.4"
      }
     },
     "84346519687746f399220604b7cd798e": {
      "model_module": "jupyter-js-widgets",
      "model_module_version": "~2.1.4",
      "model_name": "OutputModel",
      "state": {
       "_dom_classes": [],
       "_model_module": "jupyter-js-widgets",
       "_model_module_version": "~2.1.4",
       "_view_module": "jupyter-js-widgets",
       "_view_module_version": "~2.1.4",
       "layout": "IPY_MODEL_7116e83405f44ae49bdd8a3f6e4e0617",
       "msg_throttle": 1
      }
     },
     "84963373a1d54c18a871de64b7553d26": {
      "model_module": "jupyter-js-widgets",
      "model_module_version": "~2.1.4",
      "model_name": "VBoxModel",
      "state": {
       "_dom_classes": [
        "widget-interact"
       ],
       "_model_module_version": "~2.1.4",
       "_view_module_version": "~2.1.4",
       "children": [
        "IPY_MODEL_cad27eb603a1498a98e4b800bdaaeb08",
        "IPY_MODEL_6e14aaa893ae40b69c34ec57bd811f4f",
        "IPY_MODEL_00e357169da9424182e5ff46cf6ab15f"
       ],
       "layout": "IPY_MODEL_e6f22d24ac4d49f9ab056c55b6f46204"
      }
     },
     "857c5d9fb7934ccb9f78b3f70795a6bb": {
      "model_module": "jupyter-js-widgets",
      "model_module_version": "~2.1.4",
      "model_name": "OutputModel",
      "state": {
       "_dom_classes": [],
       "_model_module": "jupyter-js-widgets",
       "_model_module_version": "~2.1.4",
       "_view_module": "jupyter-js-widgets",
       "_view_module_version": "~2.1.4",
       "layout": "IPY_MODEL_c21954d39425418a9edf1e9736203187",
       "msg_throttle": 1
      }
     },
     "8798b07f172f42d297f811c289dc96ec": {
      "model_module": "jupyter-js-widgets",
      "model_module_version": "~2.1.4",
      "model_name": "IntSliderModel",
      "state": {
       "_model_module_version": "~2.1.4",
       "_view_module_version": "~2.1.4",
       "description": "day",
       "layout": "IPY_MODEL_2156f53e987c405eaf6509e4372eb03d",
       "max": 31,
       "min": 1,
       "style": "IPY_MODEL_e32b47199fe74c78847334f8b7e6d131",
       "value": 1
      }
     },
     "897ab63dbfe4489b9e02ce3c9cebf13a": {
      "model_module": "jupyter-js-widgets",
      "model_module_version": "~2.1.4",
      "model_name": "LayoutModel",
      "state": {
       "_model_module_version": "~2.1.4",
       "_view_module_version": "~2.1.4"
      }
     },
     "8f08de82befe499795241c1b3e7538a0": {
      "model_module": "jupyter-js-widgets",
      "model_module_version": "~2.1.4",
      "model_name": "OutputModel",
      "state": {
       "_dom_classes": [],
       "_model_module": "jupyter-js-widgets",
       "_model_module_version": "~2.1.4",
       "_view_module": "jupyter-js-widgets",
       "_view_module_version": "~2.1.4",
       "layout": "IPY_MODEL_1e4b3f6f72e446d5ba7e80f9b31130ac",
       "msg_throttle": 1
      }
     },
     "8feb8623a78f46f5b7ddcb60b3e6a171": {
      "model_module": "jupyter-js-widgets",
      "model_module_version": "~2.1.4",
      "model_name": "SliderStyleModel",
      "state": {
       "_model_module_version": "~2.1.4",
       "_view_module_version": "~2.1.4"
      }
     },
     "9507669738c747b78985e7e2b7abd00b": {
      "model_module": "jupyter-js-widgets",
      "model_module_version": "~2.1.4",
      "model_name": "LayoutModel",
      "state": {
       "_model_module_version": "~2.1.4",
       "_view_module_version": "~2.1.4"
      }
     },
     "9586acde9eae441e815d98d0ede266d5": {
      "model_module": "jupyter-js-widgets",
      "model_module_version": "~2.1.4",
      "model_name": "IntSliderModel",
      "state": {
       "_model_module_version": "~2.1.4",
       "_view_module_version": "~2.1.4",
       "description": "hour",
       "layout": "IPY_MODEL_d2a180f30f704f7fa7d8fe0fa8516476",
       "max": 23,
       "style": "IPY_MODEL_4dbc3b9a06e24b42a974f89967ff7eaf"
      }
     },
     "97359a6ed49b4134ad637075dd95c4ad": {
      "model_module": "jupyter-js-widgets",
      "model_module_version": "~2.1.4",
      "model_name": "VBoxModel",
      "state": {
       "_dom_classes": [
        "widget-interact"
       ],
       "_model_module_version": "~2.1.4",
       "_view_module_version": "~2.1.4",
       "children": [
        "IPY_MODEL_f66fc39912444e7495a2214b96fc7414",
        "IPY_MODEL_69d80fbcf4064c4999528bd0700d89db",
        "IPY_MODEL_7b4d7d5cc9394372ac56fe69c073c10d"
       ],
       "layout": "IPY_MODEL_897ab63dbfe4489b9e02ce3c9cebf13a"
      }
     },
     "9abab51e48464fefbe75d794ca2d8ade": {
      "model_module": "jupyter-js-widgets",
      "model_module_version": "~2.1.4",
      "model_name": "IntSliderModel",
      "state": {
       "_model_module_version": "~2.1.4",
       "_view_module_version": "~2.1.4",
       "description": "day",
       "layout": "IPY_MODEL_ecd6b48e5b684e6099e22fb6d347e195",
       "max": 31,
       "min": 1,
       "style": "IPY_MODEL_06be55192c7241abb68e381f1f94c903",
       "value": 1
      }
     },
     "9b393441307143ca9353bd5eae633ad1": {
      "model_module": "jupyter-js-widgets",
      "model_module_version": "~2.1.4",
      "model_name": "OutputModel",
      "state": {
       "_dom_classes": [],
       "_model_module": "jupyter-js-widgets",
       "_model_module_version": "~2.1.4",
       "_view_module": "jupyter-js-widgets",
       "_view_module_version": "~2.1.4",
       "layout": "IPY_MODEL_ae315bd70b4947a790b0a9fa43c5dbf5",
       "msg_throttle": 1
      }
     },
     "9d527ba82cb341b1a0ec4bfa8ec071f5": {
      "model_module": "jupyter-js-widgets",
      "model_module_version": "~2.1.4",
      "model_name": "OutputModel",
      "state": {
       "_dom_classes": [],
       "_model_module": "jupyter-js-widgets",
       "_model_module_version": "~2.1.4",
       "_view_module": "jupyter-js-widgets",
       "_view_module_version": "~2.1.4",
       "layout": "IPY_MODEL_19e44214095c452197d53769b69ac136",
       "msg_throttle": 1
      }
     },
     "9e2e455caffc4507b3d1e9b1dd9b014e": {
      "model_module": "jupyter-js-widgets",
      "model_module_version": "~2.1.4",
      "model_name": "LayoutModel",
      "state": {
       "_model_module_version": "~2.1.4",
       "_view_module_version": "~2.1.4"
      }
     },
     "a13a91b7a47c4ca9bccff3ffcda97cfa": {
      "model_module": "jupyter-js-widgets",
      "model_module_version": "~2.1.4",
      "model_name": "IntSliderModel",
      "state": {
       "_model_module_version": "~2.1.4",
       "_view_module_version": "~2.1.4",
       "description": "hour",
       "layout": "IPY_MODEL_6cec68548735437f8ae35a99f5178785",
       "max": 23,
       "style": "IPY_MODEL_cded6565908448878553fb4ef7764f68"
      }
     },
     "a3697708803245a195ea2dfb0cdf1f00": {
      "model_module": "jupyter-js-widgets",
      "model_module_version": "~2.1.4",
      "model_name": "OutputModel",
      "state": {
       "_dom_classes": [],
       "_model_module": "jupyter-js-widgets",
       "_model_module_version": "~2.1.4",
       "_view_module": "jupyter-js-widgets",
       "_view_module_version": "~2.1.4",
       "layout": "IPY_MODEL_be92b89bef724da4923a90850aeb6a34",
       "msg_throttle": 1
      }
     },
     "a698446b999d4fb1a34f3addf1510652": {
      "model_module": "jupyter-js-widgets",
      "model_module_version": "~2.1.4",
      "model_name": "OutputModel",
      "state": {
       "_dom_classes": [],
       "_model_module": "jupyter-js-widgets",
       "_model_module_version": "~2.1.4",
       "_view_module": "jupyter-js-widgets",
       "_view_module_version": "~2.1.4",
       "layout": "IPY_MODEL_239bac3c2fc54e829e5258abf76d8017",
       "msg_throttle": 1
      }
     },
     "a69a792d786b48e782ac58c9294ed503": {
      "model_module": "jupyter-js-widgets",
      "model_module_version": "~2.1.4",
      "model_name": "LayoutModel",
      "state": {
       "_model_module_version": "~2.1.4",
       "_view_module_version": "~2.1.4"
      }
     },
     "ac48ff8315f844a6be2cea2ab6e8177d": {
      "model_module": "jupyter-js-widgets",
      "model_module_version": "~2.1.4",
      "model_name": "IntSliderModel",
      "state": {
       "_model_module_version": "~2.1.4",
       "_view_module_version": "~2.1.4",
       "description": "day",
       "layout": "IPY_MODEL_53ed4a57354f481db6fc1a979883ddfb",
       "max": 31,
       "min": 1,
       "style": "IPY_MODEL_ec957e7b6e6a4046aa9573891858c6ba",
       "value": 1
      }
     },
     "ae315bd70b4947a790b0a9fa43c5dbf5": {
      "model_module": "jupyter-js-widgets",
      "model_module_version": "~2.1.4",
      "model_name": "LayoutModel",
      "state": {
       "_model_module_version": "~2.1.4",
       "_view_module_version": "~2.1.4"
      }
     },
     "afa97011bfa54c3bb9f5404e1facd3ca": {
      "model_module": "jupyter-js-widgets",
      "model_module_version": "~2.1.4",
      "model_name": "LayoutModel",
      "state": {
       "_model_module_version": "~2.1.4",
       "_view_module_version": "~2.1.4"
      }
     },
     "b0e1cf0364d644a49b0a8d533df69c3d": {
      "model_module": "jupyter-js-widgets",
      "model_module_version": "~2.1.4",
      "model_name": "VBoxModel",
      "state": {
       "_dom_classes": [
        "widget-interact"
       ],
       "_model_module_version": "~2.1.4",
       "_view_module_version": "~2.1.4",
       "children": [
        "IPY_MODEL_ac48ff8315f844a6be2cea2ab6e8177d",
        "IPY_MODEL_bcc2c5b009c2410697a7e471d0bb3a4e",
        "IPY_MODEL_9b393441307143ca9353bd5eae633ad1"
       ],
       "layout": "IPY_MODEL_3bef3592a7454fbfb7940fb88da1419a"
      }
     },
     "b602a2f7359b48409e7b11d8b96fe13e": {
      "model_module": "jupyter-js-widgets",
      "model_module_version": "~2.1.4",
      "model_name": "LayoutModel",
      "state": {
       "_model_module_version": "~2.1.4",
       "_view_module_version": "~2.1.4"
      }
     },
     "b712e76cec7445acaad6e051db1c1906": {
      "model_module": "jupyter-js-widgets",
      "model_module_version": "~2.1.4",
      "model_name": "SliderStyleModel",
      "state": {
       "_model_module_version": "~2.1.4",
       "_view_module_version": "~2.1.4"
      }
     },
     "bcc2c5b009c2410697a7e471d0bb3a4e": {
      "model_module": "jupyter-js-widgets",
      "model_module_version": "~2.1.4",
      "model_name": "IntSliderModel",
      "state": {
       "_model_module_version": "~2.1.4",
       "_view_module_version": "~2.1.4",
       "description": "hour",
       "layout": "IPY_MODEL_5b3aab6ee45147339e933d52dd27950f",
       "max": 23,
       "style": "IPY_MODEL_147633384ae14d548cb7b381d5dce21f"
      }
     },
     "bd07fec483594a01bf18bb334fb4a633": {
      "model_module": "jupyter-js-widgets",
      "model_module_version": "~2.1.4",
      "model_name": "LayoutModel",
      "state": {
       "_model_module_version": "~2.1.4",
       "_view_module_version": "~2.1.4"
      }
     },
     "be2bc791754d4f7c93aed3f29f71832e": {
      "model_module": "jupyter-js-widgets",
      "model_module_version": "~2.1.4",
      "model_name": "IntSliderModel",
      "state": {
       "_model_module_version": "~2.1.4",
       "_view_module_version": "~2.1.4",
       "description": "day",
       "layout": "IPY_MODEL_5895c560169f40e8b8791431c5ce0c82",
       "max": 31,
       "min": 1,
       "style": "IPY_MODEL_f047caa29e5d4b5fa81a61364a33be57",
       "value": 1
      }
     },
     "be92b89bef724da4923a90850aeb6a34": {
      "model_module": "jupyter-js-widgets",
      "model_module_version": "~2.1.4",
      "model_name": "LayoutModel",
      "state": {
       "_model_module_version": "~2.1.4",
       "_view_module_version": "~2.1.4"
      }
     },
     "bf15b5ab4053445d9654a3960a925bd3": {
      "model_module": "jupyter-js-widgets",
      "model_module_version": "~2.1.4",
      "model_name": "LayoutModel",
      "state": {
       "_model_module_version": "~2.1.4",
       "_view_module_version": "~2.1.4"
      }
     },
     "c15ba0918ffa48aeaefcf1a013c1adbc": {
      "model_module": "jupyter-js-widgets",
      "model_module_version": "~2.1.4",
      "model_name": "LayoutModel",
      "state": {
       "_model_module_version": "~2.1.4",
       "_view_module_version": "~2.1.4"
      }
     },
     "c21954d39425418a9edf1e9736203187": {
      "model_module": "jupyter-js-widgets",
      "model_module_version": "~2.1.4",
      "model_name": "LayoutModel",
      "state": {
       "_model_module_version": "~2.1.4",
       "_view_module_version": "~2.1.4"
      }
     },
     "c3d14cfda7e14409acd8c7cc431fbc46": {
      "model_module": "jupyter-js-widgets",
      "model_module_version": "~2.1.4",
      "model_name": "LayoutModel",
      "state": {
       "_model_module_version": "~2.1.4",
       "_view_module_version": "~2.1.4"
      }
     },
     "cad27eb603a1498a98e4b800bdaaeb08": {
      "model_module": "jupyter-js-widgets",
      "model_module_version": "~2.1.4",
      "model_name": "IntSliderModel",
      "state": {
       "_model_module_version": "~2.1.4",
       "_view_module_version": "~2.1.4",
       "description": "day",
       "layout": "IPY_MODEL_9507669738c747b78985e7e2b7abd00b",
       "max": 31,
       "min": 1,
       "style": "IPY_MODEL_09ff0a4931f2432aa3740daf60e5faa3",
       "value": 6
      }
     },
     "cd8effa9d5b24ddca05357058178705c": {
      "model_module": "jupyter-js-widgets",
      "model_module_version": "~2.1.4",
      "model_name": "IntSliderModel",
      "state": {
       "_model_module_version": "~2.1.4",
       "_view_module_version": "~2.1.4",
       "description": "day",
       "layout": "IPY_MODEL_3ef9af0fdef445e0a91000b25f0ed843",
       "max": 31,
       "min": 1,
       "style": "IPY_MODEL_e583222e08d34375bf30c9103be64107",
       "value": 1
      }
     },
     "cded6565908448878553fb4ef7764f68": {
      "model_module": "jupyter-js-widgets",
      "model_module_version": "~2.1.4",
      "model_name": "SliderStyleModel",
      "state": {
       "_model_module_version": "~2.1.4",
       "_view_module_version": "~2.1.4"
      }
     },
     "cef4fc67154c4eb685715a3fc5f4bbbc": {
      "model_module": "jupyter-js-widgets",
      "model_module_version": "~2.1.4",
      "model_name": "SliderStyleModel",
      "state": {
       "_model_module_version": "~2.1.4",
       "_view_module_version": "~2.1.4"
      }
     },
     "d2a180f30f704f7fa7d8fe0fa8516476": {
      "model_module": "jupyter-js-widgets",
      "model_module_version": "~2.1.4",
      "model_name": "LayoutModel",
      "state": {
       "_model_module_version": "~2.1.4",
       "_view_module_version": "~2.1.4"
      }
     },
     "e04d2634a5614c8f95a2a45d796501ac": {
      "model_module": "jupyter-js-widgets",
      "model_module_version": "~2.1.4",
      "model_name": "LayoutModel",
      "state": {
       "_model_module_version": "~2.1.4",
       "_view_module_version": "~2.1.4"
      }
     },
     "e32b47199fe74c78847334f8b7e6d131": {
      "model_module": "jupyter-js-widgets",
      "model_module_version": "~2.1.4",
      "model_name": "SliderStyleModel",
      "state": {
       "_model_module_version": "~2.1.4",
       "_view_module_version": "~2.1.4"
      }
     },
     "e583222e08d34375bf30c9103be64107": {
      "model_module": "jupyter-js-widgets",
      "model_module_version": "~2.1.4",
      "model_name": "SliderStyleModel",
      "state": {
       "_model_module_version": "~2.1.4",
       "_view_module_version": "~2.1.4"
      }
     },
     "e6f22d24ac4d49f9ab056c55b6f46204": {
      "model_module": "jupyter-js-widgets",
      "model_module_version": "~2.1.4",
      "model_name": "LayoutModel",
      "state": {
       "_model_module_version": "~2.1.4",
       "_view_module_version": "~2.1.4"
      }
     },
     "ebb9269f0b2f4bf697bf37a08417926a": {
      "model_module": "jupyter-js-widgets",
      "model_module_version": "~2.1.4",
      "model_name": "SliderStyleModel",
      "state": {
       "_model_module_version": "~2.1.4",
       "_view_module_version": "~2.1.4"
      }
     },
     "ec957e7b6e6a4046aa9573891858c6ba": {
      "model_module": "jupyter-js-widgets",
      "model_module_version": "~2.1.4",
      "model_name": "SliderStyleModel",
      "state": {
       "_model_module_version": "~2.1.4",
       "_view_module_version": "~2.1.4"
      }
     },
     "ec970aace5924af0bbc64ff249e9da73": {
      "model_module": "jupyter-js-widgets",
      "model_module_version": "~2.1.4",
      "model_name": "LayoutModel",
      "state": {
       "_model_module_version": "~2.1.4",
       "_view_module_version": "~2.1.4"
      }
     },
     "ecd6b48e5b684e6099e22fb6d347e195": {
      "model_module": "jupyter-js-widgets",
      "model_module_version": "~2.1.4",
      "model_name": "LayoutModel",
      "state": {
       "_model_module_version": "~2.1.4",
       "_view_module_version": "~2.1.4"
      }
     },
     "f047caa29e5d4b5fa81a61364a33be57": {
      "model_module": "jupyter-js-widgets",
      "model_module_version": "~2.1.4",
      "model_name": "SliderStyleModel",
      "state": {
       "_model_module_version": "~2.1.4",
       "_view_module_version": "~2.1.4"
      }
     },
     "f0d11cec90604912a60b80a76956086d": {
      "model_module": "jupyter-js-widgets",
      "model_module_version": "~2.1.4",
      "model_name": "LayoutModel",
      "state": {
       "_model_module_version": "~2.1.4",
       "_view_module_version": "~2.1.4"
      }
     },
     "f15f1e57d1fc42d097bb6ce6396d4bb5": {
      "model_module": "jupyter-js-widgets",
      "model_module_version": "~2.1.4",
      "model_name": "IntSliderModel",
      "state": {
       "_model_module_version": "~2.1.4",
       "_view_module_version": "~2.1.4",
       "description": "hour",
       "layout": "IPY_MODEL_45ac3ac1cb154c308612e565c5200dca",
       "max": 23,
       "style": "IPY_MODEL_68805ad2811a4c0da7c36a787604023b"
      }
     },
     "f66fc39912444e7495a2214b96fc7414": {
      "model_module": "jupyter-js-widgets",
      "model_module_version": "~2.1.4",
      "model_name": "IntSliderModel",
      "state": {
       "_model_module_version": "~2.1.4",
       "_view_module_version": "~2.1.4",
       "description": "day",
       "layout": "IPY_MODEL_fa6bdcb1c0c349519be7614e43177e84",
       "max": 31,
       "min": 1,
       "style": "IPY_MODEL_cef4fc67154c4eb685715a3fc5f4bbbc",
       "value": 1
      }
     },
     "f71740f97819404e8e0773f9a6074a58": {
      "model_module": "jupyter-js-widgets",
      "model_module_version": "~2.1.4",
      "model_name": "LayoutModel",
      "state": {
       "_model_module_version": "~2.1.4",
       "_view_module_version": "~2.1.4"
      }
     },
     "f77317c1215941beb76a2999bf0cacd6": {
      "model_module": "jupyter-js-widgets",
      "model_module_version": "~2.1.4",
      "model_name": "OutputModel",
      "state": {
       "_dom_classes": [],
       "_model_module": "jupyter-js-widgets",
       "_model_module_version": "~2.1.4",
       "_view_module": "jupyter-js-widgets",
       "_view_module_version": "~2.1.4",
       "layout": "IPY_MODEL_f0d11cec90604912a60b80a76956086d",
       "msg_throttle": 1
      }
     },
     "fa6bdcb1c0c349519be7614e43177e84": {
      "model_module": "jupyter-js-widgets",
      "model_module_version": "~2.1.4",
      "model_name": "LayoutModel",
      "state": {
       "_model_module_version": "~2.1.4",
       "_view_module_version": "~2.1.4"
      }
     },
     "fceb115f65794627b420044206a09add": {
      "model_module": "jupyter-js-widgets",
      "model_module_version": "~2.1.4",
      "model_name": "SliderStyleModel",
      "state": {
       "_model_module_version": "~2.1.4",
       "_view_module_version": "~2.1.4"
      }
     },
     "fd84b84ab6fe4b58a87e2582d9590d4b": {
      "model_module": "jupyter-js-widgets",
      "model_module_version": "~2.1.4",
      "model_name": "VBoxModel",
      "state": {
       "_dom_classes": [
        "widget-interact"
       ],
       "_model_module_version": "~2.1.4",
       "_view_module_version": "~2.1.4",
       "children": [
        "IPY_MODEL_cd8effa9d5b24ddca05357058178705c",
        "IPY_MODEL_78eb0094e0c44cb5b703412603024ac0",
        "IPY_MODEL_8f08de82befe499795241c1b3e7538a0"
       ],
       "layout": "IPY_MODEL_77e7326304354e13a58512614b19775e"
      }
     }
    },
    "version_major": 1,
    "version_minor": 0
   }
  }
 },
 "nbformat": 4,
 "nbformat_minor": 2
}
